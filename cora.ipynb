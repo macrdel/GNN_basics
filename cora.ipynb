{
  "cells": [
    {
      "cell_type": "markdown",
      "id": "horizontal-academy",
      "metadata": {
        "id": "horizontal-academy"
      },
      "source": [
        "# CORA & GraphSAGE"
      ]
    },
    {
      "cell_type": "code",
      "execution_count": 1,
      "id": "eN8I9zouSYlA",
      "metadata": {
        "ExecuteTime": {
          "end_time": "2023-04-13T07:46:02.672789Z",
          "start_time": "2023-04-13T07:45:58.391274Z"
        },
        "id": "eN8I9zouSYlA"
      },
      "outputs": [],
      "source": [
        "import numpy as np\n",
        "import pandas as pd\n",
        "from matplotlib import pyplot as plt\n",
        "import collections\n",
        "import copy\n",
        "from tqdm import trange\n",
        "\n",
        "import torch\n",
        "import torch.nn as nn\n",
        "import torch.nn.functional as F\n",
        "import torch.optim as optim\n",
        "import torch_geometric\n",
        "import torch_scatter\n",
        "from torch_geometric.loader import DataLoader\n",
        "from torch_geometric.datasets import Planetoid\n",
        "from torch_geometric.nn.conv import MessagePassing"
      ]
    },
    {
      "cell_type": "markdown",
      "id": "-6jBmkt0SYlC",
      "metadata": {
        "id": "-6jBmkt0SYlC"
      },
      "source": [
        "## Подгрузка датасета"
      ]
    },
    {
      "cell_type": "code",
      "execution_count": 3,
      "id": "264nu8RYUkFD",
      "metadata": {
        "colab": {
          "base_uri": "https://localhost:8080/"
        },
        "id": "264nu8RYUkFD",
        "outputId": "fe21cfea-996c-488f-fdce-730acd182c8e"
      },
      "outputs": [
        {
          "data": {
            "text/plain": [
              "Cora()"
            ]
          },
          "execution_count": 3,
          "metadata": {},
          "output_type": "execute_result"
        }
      ],
      "source": [
        "dataset = Planetoid(root=\"./data/cora\", name=\"Cora\")\n",
        "dataset"
      ]
    },
    {
      "cell_type": "code",
      "execution_count": 4,
      "id": "ZrqLwYk-WsHZ",
      "metadata": {
        "id": "ZrqLwYk-WsHZ"
      },
      "outputs": [],
      "source": [
        "data = dataset[0]"
      ]
    },
    {
      "cell_type": "markdown",
      "id": "Sz-6DKicVhmz",
      "metadata": {
        "id": "Sz-6DKicVhmz"
      },
      "source": [
        "Число узлов"
      ]
    },
    {
      "cell_type": "code",
      "execution_count": 6,
      "id": "1RcxrKQKVgKV",
      "metadata": {
        "colab": {
          "base_uri": "https://localhost:8080/"
        },
        "id": "1RcxrKQKVgKV",
        "outputId": "eccd7e11-82a4-405c-a11c-b6ccf5eb7d1c"
      },
      "outputs": [
        {
          "data": {
            "text/plain": [
              "2708"
            ]
          },
          "execution_count": 6,
          "metadata": {},
          "output_type": "execute_result"
        }
      ],
      "source": [
        "data.num_nodes"
      ]
    },
    {
      "cell_type": "markdown",
      "id": "guen708RW8HY",
      "metadata": {
        "id": "guen708RW8HY"
      },
      "source": [
        "Число ребер"
      ]
    },
    {
      "cell_type": "code",
      "execution_count": 7,
      "id": "uUcqLjbQW7ki",
      "metadata": {
        "colab": {
          "base_uri": "https://localhost:8080/"
        },
        "id": "uUcqLjbQW7ki",
        "outputId": "c45c7de4-22ad-4ddc-b036-3bee21b516c7"
      },
      "outputs": [
        {
          "data": {
            "text/plain": [
              "10556"
            ]
          },
          "execution_count": 7,
          "metadata": {},
          "output_type": "execute_result"
        }
      ],
      "source": [
        "data.num_edges"
      ]
    },
    {
      "cell_type": "code",
      "execution_count": 8,
      "id": "znlGJgv6XFs3",
      "metadata": {
        "colab": {
          "base_uri": "https://localhost:8080/"
        },
        "id": "znlGJgv6XFs3",
        "outputId": "8a4b2c13-b25b-4192-83a6-a8723dd6d8fd"
      },
      "outputs": [
        {
          "data": {
            "text/plain": [
              "True"
            ]
          },
          "execution_count": 8,
          "metadata": {},
          "output_type": "execute_result"
        }
      ],
      "source": [
        "data.is_undirected()"
      ]
    },
    {
      "cell_type": "markdown",
      "id": "sP5wEKsIX44B",
      "metadata": {
        "id": "sP5wEKsIX44B"
      },
      "source": [
        "Количество ребер в два раза превышает фактическое количество так как мы храним оба направления для неориентированного графа"
      ]
    },
    {
      "cell_type": "code",
      "execution_count": 9,
      "id": "8I4ifyMiZFh6",
      "metadata": {
        "colab": {
          "base_uri": "https://localhost:8080/"
        },
        "id": "8I4ifyMiZFh6",
        "outputId": "a589794a-66d9-4263-ec46-5ce802f3fbb7"
      },
      "outputs": [
        {
          "data": {
            "text/plain": [
              "5278.0"
            ]
          },
          "execution_count": 9,
          "metadata": {},
          "output_type": "execute_result"
        }
      ],
      "source": [
        "data.num_edges / 2."
      ]
    },
    {
      "cell_type": "markdown",
      "id": "nAk4rGzzY-w7",
      "metadata": {
        "id": "nAk4rGzzY-w7"
      },
      "source": [
        "Число признаков"
      ]
    },
    {
      "cell_type": "code",
      "execution_count": 10,
      "id": "1Ors4tcgYPWz",
      "metadata": {
        "colab": {
          "base_uri": "https://localhost:8080/"
        },
        "id": "1Ors4tcgYPWz",
        "outputId": "10e80fde-3b75-43a2-998d-cf13af38abf3"
      },
      "outputs": [
        {
          "data": {
            "text/plain": [
              "1433"
            ]
          },
          "execution_count": 10,
          "metadata": {},
          "output_type": "execute_result"
        }
      ],
      "source": [
        "data.num_features"
      ]
    },
    {
      "cell_type": "code",
      "execution_count": 11,
      "id": "wT5vQ-UUaFTk",
      "metadata": {
        "colab": {
          "base_uri": "https://localhost:8080/"
        },
        "id": "wT5vQ-UUaFTk",
        "outputId": "dc52ebbc-b8f4-4c23-b4c4-f1eb3238c1a7"
      },
      "outputs": [
        {
          "name": "stdout",
          "output_type": "stream",
          "text": [
            "1433\n"
          ]
        },
        {
          "data": {
            "text/plain": [
              "tensor([0., 0., 0., 0., 0., 0., 0., 0., 0., 0., 0., 0., 0., 0., 0., 0., 0., 0.,\n",
              "        0., 1., 0., 0., 0., 0., 0., 0., 0., 0., 0., 0., 0., 0., 0., 0., 0., 0.,\n",
              "        0., 0., 0., 0., 0., 0., 0., 0., 0., 0., 0., 0., 0., 0.])"
            ]
          },
          "execution_count": 11,
          "metadata": {},
          "output_type": "execute_result"
        }
      ],
      "source": [
        "print(len(data.x[0]))\n",
        "data.x[0][:50]"
      ]
    },
    {
      "cell_type": "markdown",
      "id": "_PwvyP9NZxdl",
      "metadata": {
        "id": "_PwvyP9NZxdl"
      },
      "source": [
        "Классы"
      ]
    },
    {
      "cell_type": "code",
      "execution_count": 12,
      "id": "YO16F62WZ1M_",
      "metadata": {
        "colab": {
          "base_uri": "https://localhost:8080/"
        },
        "id": "YO16F62WZ1M_",
        "outputId": "b16eeb2f-6532-43d4-a42e-e14e8b785922"
      },
      "outputs": [
        {
          "data": {
            "text/plain": [
              "7"
            ]
          },
          "execution_count": 12,
          "metadata": {},
          "output_type": "execute_result"
        }
      ],
      "source": [
        "dataset.num_classes"
      ]
    },
    {
      "cell_type": "code",
      "execution_count": 13,
      "id": "81Bi7b6XaTSh",
      "metadata": {
        "colab": {
          "base_uri": "https://localhost:8080/"
        },
        "id": "81Bi7b6XaTSh",
        "outputId": "afcedd41-63ac-4033-defd-0cee43d50dd5"
      },
      "outputs": [
        {
          "data": {
            "text/plain": [
              "tensor([3, 4, 4, 0, 3, 2, 0, 3, 3, 2])"
            ]
          },
          "execution_count": 13,
          "metadata": {},
          "output_type": "execute_result"
        }
      ],
      "source": [
        "data.y[:10]"
      ]
    },
    {
      "cell_type": "markdown",
      "id": "mBDW4gWyhM8o",
      "metadata": {
        "id": "mBDW4gWyhM8o"
      },
      "source": [
        "Посмотрим на распределение классов"
      ]
    },
    {
      "cell_type": "code",
      "execution_count": 14,
      "id": "eOtdvNvthRPn",
      "metadata": {
        "colab": {
          "base_uri": "https://localhost:8080/",
          "height": 574
        },
        "id": "eOtdvNvthRPn",
        "outputId": "d2bed105-b8f5-4594-dbdc-e58d79fe0e2a"
      },
      "outputs": [
        {
          "name": "stdout",
          "output_type": "stream",
          "text": [
            "{3: 818, 4: 426, 0: 351, 2: 418, 1: 217, 5: 298, 6: 180}\n"
          ]
        },
        {
          "data": {
            "image/png": "[encoded data removed]",
            "text/plain": [
              "<Figure size 1000x600 with 1 Axes>"
            ]
          },
          "metadata": {},
          "output_type": "display_data"
        }
      ],
      "source": [
        "counter = collections.Counter(data.y.numpy())\n",
        "counter = dict(counter)\n",
        "print(counter)\n",
        "count = [x[1] for x in sorted(counter.items())]\n",
        "plt.figure(figsize=(10, 6))\n",
        "plt.bar(range(7), count)\n",
        "plt.xlabel(\"class\", size=20)\n",
        "plt.show()"
      ]
    },
    {
      "cell_type": "markdown",
      "id": "vanilla-worry",
      "metadata": {
        "id": "vanilla-worry"
      },
      "source": [
        "## Реализация основного модуля"
      ]
    },
    {
      "cell_type": "markdown",
      "id": "ZeAc2_FBSYlD",
      "metadata": {
        "id": "ZeAc2_FBSYlD"
      },
      "source": [
        "Ниже приведена реализация основного модуля GNN."
      ]
    },
    {
      "cell_type": "code",
      "execution_count": 15,
      "id": "opening-vessel",
      "metadata": {
        "ExecuteTime": {
          "end_time": "2023-04-13T07:46:02.681333Z",
          "start_time": "2023-04-13T07:46:02.678802Z"
        },
        "id": "opening-vessel"
      },
      "outputs": [],
      "source": [
        "class GNNStack(torch.nn.Module):\n",
        "    def __init__(self, input_dim, hidden_dim, output_dim, args, emb=False):\n",
        "        super().__init__()\n",
        "        self.convs = nn.ModuleList()\n",
        "        self.convs.append(GraphSage(input_dim, hidden_dim))\n",
        "        assert args.num_layers >= 1, \"Число сверточных слоев должно быть >=1\"\n",
        "        for l in range(args.num_layers - 1):\n",
        "            self.convs.append(GraphSage(args.heads * hidden_dim, hidden_dim))\n",
        "\n",
        "        # обработка после сверток полносвязными слоями\n",
        "        self.post_mp = nn.Sequential(\n",
        "            nn.Linear(args.heads * hidden_dim, hidden_dim),\n",
        "            nn.Dropout(args.dropout),\n",
        "            nn.Linear(hidden_dim, output_dim),\n",
        "        )\n",
        "\n",
        "        self.dropout = args.dropout\n",
        "        self.num_layers = args.num_layers\n",
        "\n",
        "        self.emb = emb\n",
        "\n",
        "    def forward(self, data):\n",
        "        x, edge_index, batch = data.x, data.edge_index, data.batch\n",
        "\n",
        "        for i in range(self.num_layers):\n",
        "            x = self.convs[i](x, edge_index)\n",
        "            x = F.relu(x)\n",
        "            x = F.dropout(x, p=self.dropout, training=self.training)\n",
        "\n",
        "        x = self.post_mp(x)\n",
        "\n",
        "        if self.emb == True:\n",
        "            return x\n",
        "\n",
        "        return F.log_softmax(x, dim=1)\n",
        "\n",
        "    def loss(self, pred, label):\n",
        "        return F.nll_loss(pred, label)"
      ]
    },
    {
      "cell_type": "markdown",
      "id": "1PkSC7-xlD1D",
      "metadata": {
        "id": "1PkSC7-xlD1D"
      },
      "source": [
        "## Реализация Message Passing"
      ]
    },
    {
      "cell_type": "markdown",
      "id": "located-lesson",
      "metadata": {
        "id": "located-lesson"
      },
      "source": [
        "Для реализации Message Passing сверток GraphSage разработаем 3 функции, необходимые для передачи и обработки сообщений: `forward`, `message`, и `aggregate`.\n",
        "\n",
        "Функция `propagate` инкапсулирует процесс передачи сообщения. Она делает это, вызывая три функции: 1) `message`, 2)  `aggregate`, и 3) `update`. Здесь мы не будем явно реализовывать `update`, а вместо этого поместим логику для обновления эмбеддингов узлов после передачи сообщения внутри функции `forward`. После передачи сообщения мы можем дополнительно преобразовать эмбеддинги узлов, полученные с помощью `propagate`. И так, выходы из `forward` — это эмбеддинги вершин после одного слоя GNN.\n"
      ]
    },
    {
      "cell_type": "markdown",
      "id": "governmental-guidance",
      "metadata": {
        "id": "governmental-guidance"
      },
      "source": [
        "Теперь подробнее:\n",
        "\n",
        "1.\n",
        "\n",
        "```\n",
        "def propagate(edge_index, x=(x_v, x_w), extra=(extra_v, extra_w), size=size):\n",
        "```\n",
        "Вызов `propagate` инициирует процесс передачи сообщения.\n",
        "\n",
        "   - `edge_index` передается `forward` функции и получает структуру ребер графа.\n",
        "   - `x=(x_v, x_w)` представляет эмбеддинги вершин, которые будут использоваться при передаче сообщений, $v$ центральный узел ($x_{central}$) и $w$ -- это соседний узел ($x_{neighbor}$).\n",
        "   \n",
        "Для центрального узла $v$ мы будем агрегировать и преобразовывать все сообщения, связанные с его соседними узлами $w$  $(v, w) \\in \\mathcal{E}$ ($w \\in \\mathcal{N}_{v}$). Индексы `_v` и `_w` позволяют нам различать эмбеддинги, связанные с центральными узлами (т. е. узлами, получающими информацию о сообщениях) и соседними узлами (т. е. узлами, передающими сообщения).\n",
        "\n",
        "Но в разные моменты узел $x$ действует как центральный узел, так и соседний узел. В неориентированных графах мы храним оба направления ребер (т. е. $(v, w)$ и $(w, v)$). С точки зрения центрального узла, `x_v`, $x$ собирает соседнюю информацию для обновления своего внутреннего состояния. С точки зрения соседнего узла, `x_w`, $x$ передает сообщение другому центральному узлом.\n",
        "\n",
        "  - `extra=(extra_v, extra_w)` представляет дополнительную информацию, которую мы можем связать с каждым узлом помимо его текущего состояния. На самом деле, мы можем включить столько дополнительных параметров вида `param=(param_v, param_w)`, сколько захотим.\n",
        "\n",
        "  Выход функции `propagate` представляет собой матрицу эмбеддингов вершин после процесса передачи сообщения и имеет размерность $N \\times d$, где $N$ -- число вершин `size`, $d$ -- размер эмбеддинга.\n",
        "\n",
        "2.\n",
        "```\n",
        "def message(x_w, ...):\n",
        "```\n",
        "Функция `message` вызывается функцией `propagate` и создает сообщения из соседних вершин $w$ с центральными узлами $v$ для каждого ребра $(v, w)$ в *edge_index*. Эта функция может принимать любой аргумент, который изначально был передан в функцию `propagate`.\n",
        "\n",
        "   - `x_w` представляет собой матрицу эмбеддингов признаков для всех соседних узлов, передающих свои сообщения по соответствующему ребру (т. е. все узлы $w$ для рёбер $(v, w) \\in \\mathcal{E}$). Таким образом, ее размерность равна $|\\mathcal{E}| \\times d $\n",
        "\n",
        "  Выходом `message` функции является матрица эмбеддингов соседних узлов размерностью $|\\mathcal{E}| \\times d$ -> на вход `aggregate`.\n",
        "\n",
        "3.\n",
        "```\n",
        "def aggregate(inputs, index, dim_size = None):\n",
        "```\n",
        "Наконец, функция `aggregate` используется для агрегирования сообщений из соседних вершин:\n",
        "\n",
        "   - `inputs` представляют собой матрицу сообщений, переданных из соседних узлов (т.е. выход функции `message`).\n",
        "   - `index` имеет ту же форму, что и `inputs`, и сообщает нам центральный узел, соответствующий каждой из строк/сообщению $w$ в матрице `inputs`. Таким образом, `index` говорит нам, какие строки/сообщения агрегировать для каждого центрального узла.\n",
        "\n",
        "   Выход `aggregate` имеет размерность $N \\times d$."
      ]
    },
    {
      "cell_type": "markdown",
      "id": "verbal-mentor",
      "metadata": {
        "id": "verbal-mentor"
      },
      "source": [
        "Теперь реализуем свой слой GraphSage.\n",
        "\n",
        "Для данного *центрального* узла $v$ с текущим эмбеддингом $x_v^{t}$ правило обновления передачи сообщений для преобразования $x_v^{t} \\rightarrow x_v^{t+1}$ выглядит следующим образом:\n",
        "\n",
        "\\begin{equation}\n",
        "x_v^{(t + 1)} = W_1\\cdot x_v^{(t)} + W_2 \\cdot A(\\{x_w^{(t)}, \\forall w \\in \\mathcal{N}_v \\})\n",
        "\\end{equation}\n",
        "\n",
        "где $W_1$ и $W_2$ — обучаемые матрицы весов, а узлы $w$ — *соседние* узлы. Кроме того, для простоты используем среднее агрегирование:\n",
        "\n",
        "\\begin{equation}\n",
        "A(\\{x_w^{(t)}, \\forall w \\in \\mathcal{N}_v \\}) = \\frac{1}{|\\mathcal{N}_v|} \\sum_{w\\in \\mathcal{N}_v} x_w^{(t)}\n",
        "\\end{equation}\n",
        "\n",
        "Добавляем skip connections в эту реализацию GraphSage через $W_1\\cdot x_v^{(t)}$. Также после каждой итерации применяется $L_2$ нормализация (по умолчанию `normalize=True`) эмбеддингов вершин."
      ]
    },
    {
      "cell_type": "code",
      "execution_count": 26,
      "id": "endangered-sudan",
      "metadata": {
        "ExecuteTime": {
          "end_time": "2023-04-13T07:46:02.689455Z",
          "start_time": "2023-04-13T07:46:02.686895Z"
        },
        "id": "endangered-sudan"
      },
      "outputs": [],
      "source": [
        "class GraphSage(MessagePassing):\n",
        "    # метод self.propagate не переопределен и берется из родительского\n",
        "    def __init__(self, in_channels, out_channels, normalize=True, bias=False, **kwargs):\n",
        "        super().__init__(**kwargs)\n",
        "\n",
        "        self.in_channels = in_channels\n",
        "        self.out_channels = out_channels\n",
        "        self.normalize = normalize\n",
        "\n",
        "        self.lin_l = torch.nn.Linear(in_channels, out_channels, bias=bias)\n",
        "        self.lin_r = torch.nn.Linear(in_channels, out_channels, bias=bias)\n",
        "\n",
        "        self.reset_parameters()\n",
        "\n",
        "    def reset_parameters(self):\n",
        "        self.lin_l.reset_parameters()\n",
        "        self.lin_r.reset_parameters()\n",
        "\n",
        "    def forward(self, x, edge_index, size=None):\n",
        "        neighbor_out = self.propagate(edge_index, x=(x, x), size=size)\n",
        "        out = self.lin_l(x) + self.lin_r(neighbor_out)\n",
        "        if self.normalize:\n",
        "            out = torch.nn.functional.normalize(out, p=2)\n",
        "        return out\n",
        "\n",
        "    def message(self, x_j):\n",
        "        out = x_j\n",
        "        return out\n",
        "\n",
        "    def aggregate(self, inputs, index):\n",
        "        out = torch_scatter.scatter(inputs, index, dim=self.node_dim, reduce=\"mean\")\n",
        "        return out"
      ]
    },
    {
      "cell_type": "markdown",
      "id": "southern-lottery",
      "metadata": {
        "id": "southern-lottery"
      },
      "source": [
        "### Обучение GNN"
      ]
    },
    {
      "cell_type": "code",
      "execution_count": 27,
      "id": "raised-elements",
      "metadata": {
        "ExecuteTime": {
          "end_time": "2023-04-13T07:46:02.716726Z",
          "start_time": "2023-04-13T07:46:02.696498Z"
        },
        "id": "raised-elements"
      },
      "outputs": [],
      "source": [
        "def train(dataset, args):\n",
        "    print(\"Train set size: \", np.sum(dataset[0][\"train_mask\"].numpy()))\n",
        "    print(\"Val set size: \", np.sum(dataset[0][\"val_mask\"].numpy()))\n",
        "    print()\n",
        "    loader = DataLoader(\n",
        "        dataset, batch_size=args.batch_size, shuffle=True\n",
        "    )\n",
        "    test_loader = DataLoader(\n",
        "        dataset, batch_size=args.batch_size, shuffle=False\n",
        "    )\n",
        "\n",
        "    # построение модели\n",
        "    model = GNNStack(\n",
        "        dataset.num_node_features, args.hidden_dim, dataset.num_classes, args\n",
        "    )\n",
        "    filter_fn = filter(lambda p: p.requires_grad, model.parameters())\n",
        "    opt = optim.Adam(filter_fn, lr=args.lr, weight_decay=args.weight_decay)\n",
        "    if args.summary:\n",
        "        new_loader = iter(loader)\n",
        "        b = next(new_loader)\n",
        "        print(torch_geometric.nn.summary(model, b))\n",
        "\n",
        "    # train\n",
        "    losses = []\n",
        "    val_accs = []\n",
        "    best_acc = 0\n",
        "    best_model = None\n",
        "    for epoch in trange(args.epochs, desc=\"Training\", unit=\"Epochs\"):\n",
        "        total_loss = 0\n",
        "        model.train()\n",
        "        for batch in loader:\n",
        "            opt.zero_grad()\n",
        "            pred = model(batch)\n",
        "            label = batch.y\n",
        "            pred = pred[batch.train_mask]\n",
        "            label = label[batch.train_mask]\n",
        "            loss = model.loss(pred, label)\n",
        "            loss.backward()\n",
        "            opt.step()\n",
        "            total_loss += loss.item() * batch.num_graphs\n",
        "        total_loss /= len(loader.dataset)\n",
        "        losses.append(total_loss)\n",
        "\n",
        "        if epoch % 10 == 0:\n",
        "            val_acc = test(test_loader, model)\n",
        "            val_accs.append(val_acc)\n",
        "            if val_acc > best_acc:\n",
        "                best_acc = val_acc\n",
        "                best_model = copy.deepcopy(model)\n",
        "        else:\n",
        "            val_accs.append(val_accs[-1])\n",
        "\n",
        "    return val_accs, losses, best_model, best_acc, test_loader\n",
        "\n",
        "\n",
        "def test(loader, test_model, is_validation=True, save_model_preds=False):\n",
        "    if not is_validation:\n",
        "        print(\"Test set size: \", np.sum(dataset[0][\"test_mask\"].numpy()))\n",
        "        print()\n",
        "    test_model.eval()\n",
        "\n",
        "    correct = 0\n",
        "    for data in loader:\n",
        "        with torch.no_grad():\n",
        "            # max(dim=1) возвращает кортеж (values, indices); нужны только indices\n",
        "            pred = test_model(data).max(dim=1)[1]\n",
        "            label = data.y\n",
        "\n",
        "        mask = data.val_mask if is_validation else data.test_mask\n",
        "        pred = pred[mask]\n",
        "        label = label[mask]\n",
        "\n",
        "        if save_model_preds:\n",
        "            data = {}\n",
        "            data[\"pred\"] = pred.view(-1).cpu().detach().numpy()\n",
        "            data[\"label\"] = label.view(-1).cpu().detach().numpy()\n",
        "\n",
        "            df = pd.DataFrame(data=data)\n",
        "            df.to_csv(\"./models/CORA-model-preds.csv\", index=False)\n",
        "\n",
        "        correct += pred.eq(label).sum().item()\n",
        "\n",
        "    total = 0\n",
        "    for data in loader.dataset:\n",
        "        total += torch.sum(data.val_mask if is_validation else data.test_mask).item()\n",
        "\n",
        "    return correct / total\n",
        "\n",
        "\n",
        "class ObjectView(object):\n",
        "    def __init__(self, d):\n",
        "        self.__dict__ = d"
      ]
    },
    {
      "cell_type": "code",
      "execution_count": 28,
      "id": "fuzzy-worthy",
      "metadata": {
        "ExecuteTime": {
          "end_time": "2023-04-13T07:46:02.717014Z",
          "start_time": "2023-04-13T07:46:02.710326Z"
        },
        "id": "fuzzy-worthy"
      },
      "outputs": [],
      "source": [
        "args = {\n",
        "    \"num_layers\": 3,\n",
        "    \"heads\": 1,\n",
        "    \"batch_size\": 32,\n",
        "    \"hidden_dim\": 32,\n",
        "    \"dropout\": 0.5,\n",
        "    \"epochs\": 500,\n",
        "    \"weight_decay\": 5e-3,\n",
        "    \"lr\": 0.01,\n",
        "    \"summary\": True\n",
        "}"
      ]
    },
    {
      "cell_type": "code",
      "execution_count": 29,
      "id": "compliant-leather",
      "metadata": {
        "ExecuteTime": {
          "end_time": "2023-04-13T07:46:02.717223Z",
          "start_time": "2023-04-13T07:46:02.713934Z"
        },
        "id": "compliant-leather"
      },
      "outputs": [],
      "source": [
        "args = ObjectView(args)"
      ]
    },
    {
      "cell_type": "code",
      "execution_count": 30,
      "id": "rapid-neighbor",
      "metadata": {
        "ExecuteTime": {
          "end_time": "2023-04-13T07:46:58.956417Z",
          "start_time": "2023-04-13T07:46:02.720216Z"
        },
        "colab": {
          "base_uri": "https://localhost:8080/",
          "height": 867
        },
        "id": "rapid-neighbor",
        "outputId": "34cc6f2b-7927-42ca-a5ae-9d406921f502",
        "scrolled": true
      },
      "outputs": [
        {
          "name": "stdout",
          "output_type": "stream",
          "text": [
            "Train set size:  140\n",
            "Val set size:  500\n",
            "\n",
            "+-----------------------+--------------------------+----------------+----------+\n",
            "| Layer                 | Input Shape              | Output Shape   | #Param   |\n",
            "|-----------------------+--------------------------+----------------+----------|\n",
            "| GNNStack              | [2708, 2708]             | [2708, 7]      | 97,095   |\n",
            "| ├─(convs)ModuleList   | --                       | --             | 95,808   |\n",
            "| │    └─(0)GraphSage   | [2708, 1433], [2, 10556] | [2708, 32]     | 91,712   |\n",
            "| │    └─(1)GraphSage   | [2708, 32], [2, 10556]   | [2708, 32]     | 2,048    |\n",
            "| │    └─(2)GraphSage   | [2708, 32], [2, 10556]   | [2708, 32]     | 2,048    |\n",
            "| ├─(post_mp)Sequential | [2708, 32]               | [2708, 7]      | 1,287    |\n",
            "| │    └─(0)Linear      | [2708, 32]               | [2708, 32]     | 1,056    |\n",
            "| │    └─(1)Dropout     | [2708, 32]               | [2708, 32]     | --       |\n",
            "| │    └─(2)Linear      | [2708, 32]               | [2708, 7]      | 231      |\n",
            "+-----------------------+--------------------------+----------------+----------+\n"
          ]
        },
        {
          "name": "stderr",
          "output_type": "stream",
          "text": [
            "Training: 100%|██████████| 500/500 [02:23<00:00,  3.47Epochs/s]\n"
          ]
        },
        {
          "name": "stdout",
          "output_type": "stream",
          "text": [
            "Maximum val accuracy: 0.7720\n",
            "Minimum train loss: 0.1275\n"
          ]
        },
        {
          "data": {
            "image/png": "[encoded data removed]",
            "text/plain": [
              "<Figure size 1000x600 with 1 Axes>"
            ]
          },
          "metadata": {},
          "output_type": "display_data"
        }
      ],
      "source": [
        "val_accs, losses, best_model, best_acc, test_loader = train(dataset, args)\n",
        "\n",
        "print(f\"Maximum val accuracy: {best_acc:.4f}\")\n",
        "print(f\"Minimum train loss: {min(losses):.4f}\")\n",
        "\n",
        "plt.figure(figsize=(10, 6))\n",
        "plt.plot(losses, label=\"training loss\")\n",
        "plt.plot(val_accs, label=\"val accuracy\")\n",
        "plt.legend()\n",
        "plt.show()"
      ]
    },
    {
      "cell_type": "code",
      "execution_count": 32,
      "id": "bQj_YSQI40S6",
      "metadata": {
        "colab": {
          "base_uri": "https://localhost:8080/"
        },
        "id": "bQj_YSQI40S6",
        "outputId": "d29866db-0041-41f1-8188-810bdec7c171"
      },
      "outputs": [
        {
          "name": "stdout",
          "output_type": "stream",
          "text": [
            "Test set size:  1000\n",
            "\n"
          ]
        },
        {
          "data": {
            "text/plain": [
              "0.774"
            ]
          },
          "execution_count": 32,
          "metadata": {},
          "output_type": "execute_result"
        }
      ],
      "source": [
        "test(\n",
        "    test_loader,\n",
        "    best_model,\n",
        "    is_validation=False,\n",
        "    save_model_preds=True,\n",
        ")"
      ]
    }
  ],
  "metadata": {
    "colab": {
      "provenance": []
    },
    "kernelspec": {
      "display_name": "Python 3",
      "language": "python",
      "name": "python3"
    },
    "language_info": {
      "codemirror_mode": {
        "name": "ipython",
        "version": 3
      },
      "file_extension": ".py",
      "mimetype": "text/x-python",
      "name": "python",
      "nbconvert_exporter": "python",
      "pygments_lexer": "ipython3",
      "version": "3.8.5"
    }
  },
  "nbformat": 4,
  "nbformat_minor": 5
}
